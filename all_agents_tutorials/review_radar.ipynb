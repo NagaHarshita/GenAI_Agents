{
 "cells": [
  {
   "cell_type": "code",
   "execution_count": 1,
   "metadata": {},
   "outputs": [],
   "source": [
    "%%capture --no-stderr\n",
    "%pip install -U langgraph langchain-openai langchain-groq python-dotenv langchain beautifulsoup4"
   ]
  },
  {
   "cell_type": "code",
   "execution_count": 2,
   "metadata": {},
   "outputs": [],
   "source": [
    "import getpass\n",
    "import os\n",
    "from dotenv import load_dotenv, find_dotenv\n",
    "\n",
    "_ = load_dotenv(find_dotenv()) # read local .env file\n",
    "if \"GROQ_API_KEY\" not in os.environ:\n",
    "    os.environ[\"GROQ_API_KEY\"] = getpass.getpass(\"Enter your Groq API key: \")"
   ]
  },
  {
   "cell_type": "markdown",
   "metadata": {},
   "source": [
    "## Define Models"
   ]
  },
  {
   "cell_type": "code",
   "execution_count": 3,
   "metadata": {},
   "outputs": [],
   "source": [
    "# from langchain_openai import ChatOpenAI # type: ignore\n",
    "# model = ChatOpenAI(model=\"gpt-4o-mini\")\n",
    "\n",
    "from langchain_groq import ChatGroq # type: ignore\n",
    "\n",
    "model = ChatGroq(\n",
    "    model=\"llama3-70b-8192\",\n",
    "    temperature=0,\n",
    "    max_tokens=None,\n",
    "    timeout=None,\n",
    "    max_retries=2,\n",
    "    # other params...\n",
    ")\n",
    "\n",
    "\n",
    "model_with_tools = ChatGroq(\n",
    "    model=\"llama3-70b-8192\",\n",
    "    temperature=0,\n",
    "    max_tokens=None,\n",
    "    timeout=None,\n",
    "    max_retries=2,\n",
    "    # other params...\n",
    ")"
   ]
  },
  {
   "cell_type": "markdown",
   "metadata": {},
   "source": [
    "# Agent Workflow"
   ]
  },
  {
   "cell_type": "code",
   "execution_count": 4,
   "metadata": {},
   "outputs": [],
   "source": [
    "from typing import (\n",
    "    Annotated,\n",
    "    Sequence,\n",
    "    TypedDict,\n",
    ")\n",
    "from langchain_core.messages import BaseMessage \n",
    "from langgraph.graph.message import add_messages \n",
    "\n",
    "\n",
    "class AgentState(TypedDict):\n",
    "    \"\"\"The state of the agent.\"\"\"\n",
    "    messages: Annotated[Sequence[BaseMessage], add_messages]\n",
    "    review_type: str\n",
    "    db_type: str"
   ]
  },
  {
   "cell_type": "markdown",
   "metadata": {},
   "source": [
    "## Classification Node"
   ]
  },
  {
   "cell_type": "code",
   "execution_count": 5,
   "metadata": {},
   "outputs": [],
   "source": [
    "classification_prompt_template = (\n",
    "                            \"\"\"\n",
    "                            Classify the user query into one of the following categories:  \n",
    "                            - Descriptive: if the user is asking for general information or details about a particular subject.  \n",
    "                            - Comparison: if the user is comparing two or more items to understand which one is better or to see differences.  \n",
    "                            - Recommendation: if the user is seeking suggestions or advice for a particular choice.  \n",
    "\n",
    "                            Based on the query, also choose the most appropriate database from the following options:  \n",
    "                            - Amazon: for product-related queries or recommendations.  \n",
    "                            - IMDb: for movie or TV show-related queries, comparisons, or recommendations.  \n",
    "                            - Yelp: for queries related to restaurants, businesses, or local services.  \n",
    "\n",
    "                            Examples:  \n",
    "                            - Descriptive: \"What is the best movie of all time?\" -> Database: IMDb  \n",
    "                            - Comparison: \"Which movie is better, Inception or Interstellar?\" -> Database: IMDb  \n",
    "                            - Recommendation: \"Suggest some good restaurants nearby.\" -> Database: Yelp  \n",
    "\n",
    "                            Your task:  \n",
    "                            Given the user query below, classify it into one of the categories (descriptive, comparison, recommendation) and choose the appropriate database (amazon, imdb, yelp).  \n",
    "\n",
    "                            {format_instructions}  \n",
    "\n",
    "                            Query: {query}\n",
    "\n",
    "                            \"\"\"\n",
    "                        )"
   ]
  },
  {
   "cell_type": "code",
   "execution_count": 6,
   "metadata": {},
   "outputs": [],
   "source": [
    "from pydantic import BaseModel, Field\n",
    "from langchain_core.output_parsers import PydanticOutputParser\n",
    "from langchain_core.prompts import PromptTemplate\n",
    "from langchain_core.messages import AIMessage\n",
    "import json\n",
    "\n",
    "\n",
    "class ClassificationNodeOutput(BaseModel):\n",
    "    query: str = Field(description=\"The query from the user\")\n",
    "    query_type: str = Field(description=\"The type of the query: descriptive, comparison, or recommendation\")\n",
    "    db: str = Field(description=\"The type of the database to search from: amazon, imdb, or yelp\")\n",
    "\n",
    "\n",
    "class ClassificationNode():\n",
    "    @staticmethod\n",
    "    def classify_query(state: AgentState):\n",
    "        parser = PydanticOutputParser(pydantic_object=ClassificationNodeOutput)\n",
    "        classification_prompt = PromptTemplate(\n",
    "                        template=classification_prompt_template, \n",
    "                        input_variables=[\"query\"],\n",
    "                        partial_variables={\"format_instructions\": parser.get_format_instructions()},\n",
    "                    )\n",
    "        classification_model = classification_prompt | model\n",
    "        query = state[\"messages\"][0].content\n",
    "        output = classification_model.invoke({\"query\": query})\n",
    "        response: ClassificationNodeOutput = parser.invoke(output)\n",
    "        AIMessageresponse = AIMessage(content=json.dumps(response.model_dump()), name=\"classification_node\" ,additional_kwargs = {\"query\": query, \"json_output\": response.model_dump()})\n",
    "        return {\"messages\": [AIMessageresponse], \"query_type\": response.query_type, \"db_type\": response.db}\n"
   ]
  },
  {
   "cell_type": "markdown",
   "metadata": {},
   "source": [
    "## Workflow"
   ]
  },
  {
   "cell_type": "code",
   "execution_count": 7,
   "metadata": {},
   "outputs": [],
   "source": [
    "from langgraph.graph import StateGraph, END\n",
    "\n",
    "def run_workflow():\n",
    "    workflow = StateGraph(AgentState)\n",
    "\n",
    "    workflow.add_node(\"classification node\", ClassificationNode.classify_query)\n",
    "    \n",
    "    workflow.set_entry_point(\"classification node\")\n",
    "\n",
    "    workflow.add_edge(\"classification node\", END)\n",
    "\n",
    "    return workflow\n",
    "\n",
    "\n",
    "agent_graph = run_workflow().compile(debug=True)"
   ]
  },
  {
   "cell_type": "code",
   "execution_count": 8,
   "metadata": {},
   "outputs": [],
   "source": [
    "import pprint\n",
    "\n",
    "def stream_graph(stream):\n",
    "    for s in stream:\n",
    "        \n",
    "        message = s[\"messages\"][-1]\n",
    "        if isinstance(message, tuple):\n",
    "            print(message)\n",
    "        else:\n",
    "            if message.name:\n",
    "                if message.type == \"ai\":\n",
    "                    print(f'================================== \\033[1m{message.name} AI Message\\033[0m ==================================')\n",
    "                print(f\"the query is: {message.additional_kwargs['query']} \")\n",
    "                print(f\"the string response is: {message.content}\")\n",
    "                print(\"the json response is:\")\n",
    "                pprint.pprint(message.additional_kwargs[\"json_output\"])\n",
    "            else:\n",
    "                message.pretty_print()"
   ]
  },
  {
   "cell_type": "code",
   "execution_count": 9,
   "metadata": {},
   "outputs": [
    {
     "name": "stdout",
     "output_type": "stream",
     "text": [
      "\u001b[36;1m\u001b[1;3m[-1:checkpoint]\u001b[0m \u001b[1mState at the end of step -1:\n",
      "\u001b[0m{'messages': []}\n",
      "\u001b[36;1m\u001b[1;3m[0:tasks]\u001b[0m \u001b[1mStarting 1 task for step 0:\n",
      "\u001b[0m- \u001b[32;1m\u001b[1;3m__start__\u001b[0m -> {'messages': [('user',\n",
      "               'what is your opinion about the movie Avengers End Game?')]}\n",
      "\u001b[36;1m\u001b[1;3m[0:writes]\u001b[0m \u001b[1mFinished step 0 with writes to 1 channel:\n",
      "\u001b[0m- \u001b[33;1m\u001b[1;3mmessages\u001b[0m -> [('user', 'what is your opinion about the movie Avengers End Game?')]\n",
      "\u001b[36;1m\u001b[1;3m[0:checkpoint]\u001b[0m \u001b[1mState at the end of step 0:\n",
      "\u001b[0m{'messages': [HumanMessage(content='what is your opinion about the movie Avengers End Game?', additional_kwargs={}, response_metadata={}, id='3a2024e8-ba11-4f04-995a-3dbaf444088c')]}\n",
      "\u001b[36;1m\u001b[1;3m[1:tasks]\u001b[0m \u001b[1mStarting 1 task for step 1:\n",
      "\u001b[0m- \u001b[32;1m\u001b[1;3mclassification node\u001b[0m -> {'messages': [HumanMessage(content='what is your opinion about the movie Avengers End Game?', additional_kwargs={}, response_metadata={}, id='3a2024e8-ba11-4f04-995a-3dbaf444088c')]}\n",
      "================================\u001b[1m Human Message \u001b[0m=================================\n",
      "\n",
      "what is your opinion about the movie Avengers End Game?\n",
      "\u001b[36;1m\u001b[1;3m[1:writes]\u001b[0m \u001b[1mFinished step 1 with writes to 2 channels:\n",
      "\u001b[0m- \u001b[33;1m\u001b[1;3mmessages\u001b[0m -> [AIMessage(content='{\"query\": \"what is your opinion about the movie Avengers End Game?\", \"query_type\": \"descriptive\", \"db\": \"imdb\"}', additional_kwargs={'query': 'what is your opinion about the movie Avengers End Game?', 'json_output': {'query': 'what is your opinion about the movie Avengers End Game?', 'query_type': 'descriptive', 'db': 'imdb'}}, response_metadata={}, name='classification_node')]\n",
      "- \u001b[33;1m\u001b[1;3mdb_type\u001b[0m -> 'imdb'\n",
      "\u001b[36;1m\u001b[1;3m[1:checkpoint]\u001b[0m \u001b[1mState at the end of step 1:\n",
      "\u001b[0m{'db_type': 'imdb',\n",
      " 'messages': [HumanMessage(content='what is your opinion about the movie Avengers End Game?', additional_kwargs={}, response_metadata={}, id='3a2024e8-ba11-4f04-995a-3dbaf444088c'),\n",
      "              AIMessage(content='{\"query\": \"what is your opinion about the movie Avengers End Game?\", \"query_type\": \"descriptive\", \"db\": \"imdb\"}', additional_kwargs={'query': 'what is your opinion about the movie Avengers End Game?', 'json_output': {'query': 'what is your opinion about the movie Avengers End Game?', 'query_type': 'descriptive', 'db': 'imdb'}}, response_metadata={}, name='classification_node', id='7e31595b-01e2-451e-b37b-a1c2ef0a537c')]}\n",
      "================================== \u001b[1mclassification_node AI Message\u001b[0m ==================================\n",
      "the query is: what is your opinion about the movie Avengers End Game? \n",
      "the string response is: {\"query\": \"what is your opinion about the movie Avengers End Game?\", \"query_type\": \"descriptive\", \"db\": \"imdb\"}\n",
      "the json response is:\n",
      "{'db': 'imdb',\n",
      " 'query': 'what is your opinion about the movie Avengers End Game?',\n",
      " 'query_type': 'descriptive'}\n"
     ]
    }
   ],
   "source": [
    "descriptive_inputs = {\"messages\": [(\"user\", \"what is your opinion about the movie Avengers End Game?\")]}\n",
    "stream_graph(agent_graph.stream(descriptive_inputs, stream_mode=\"values\"))"
   ]
  },
  {
   "cell_type": "code",
   "execution_count": null,
   "metadata": {},
   "outputs": [],
   "source": []
  }
 ],
 "metadata": {
  "kernelspec": {
   "display_name": "review",
   "language": "python",
   "name": "python3"
  },
  "language_info": {
   "codemirror_mode": {
    "name": "ipython",
    "version": 3
   },
   "file_extension": ".py",
   "mimetype": "text/x-python",
   "name": "python",
   "nbconvert_exporter": "python",
   "pygments_lexer": "ipython3",
   "version": "3.10.15"
  }
 },
 "nbformat": 4,
 "nbformat_minor": 2
}
